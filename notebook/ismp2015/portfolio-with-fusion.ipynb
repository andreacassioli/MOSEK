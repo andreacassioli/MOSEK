{
 "cells": [
  {
   "cell_type": "markdown",
   "metadata": {},
   "source": [
    "![MOSEK ApS](https://mosek.com/files/mosek_logo_color.png )\n",
    "\n",
    "\n",
    "Portfolio Optimization\n",
    "========================\n",
    "\n",
    "\n",
    "The basic model\n",
    "---------------------------\n",
    "\n",
    "The classical Markowitz portfolio optimization problem considers investing in $n$ stocks or assets held over a period of time. Let $x_j$ denote the amount invested in asset $j$, and assume a stochastic model where the return of the assets is a random variable $r$ with known mean \n",
    "\n",
    "\\begin{equation}\n",
    "   \\mu = \\mathbf{E} r\n",
    "\\end{equation}\n",
    "\n",
    "and covariance\n",
    "\n",
    "\\begin{equation}\n",
    " \\Sigma = \\mathbf{E}(r-\\mu)(r-\\mu)^T.\n",
    "\\end{equation}\n",
    "\n",
    "The return of the investment is also a random variable $y = r^Tx$ with mean (or expected return)\n",
    "\n",
    "\\begin{equation}\n",
    "  \\mathbf{E} y = \\mu^T x\n",
    "\\end{equation}\n",
    "\n",
    "and variance (or risk)\n",
    "\n",
    "\\begin{equation}\n",
    " \\mathbf{E}(y - \\mathbf{E} y)^2 = x^T \\Sigma x.\n",
    "\\end{equation}\n",
    "\n",
    "The problem facing the investor is to rebalance the portfolio to achieve a good compromise between risk and expected return, e.g., maximize the expected return subject to a budget constraint and an upper bound (denoted $\\gamma$) on the tolerable risk.\n",
    "\n",
    "The variables $x$ denotes the investment i.e. $x_j$ is the amount invested in asset $j$ and $x_j^0$ is the initial holding of asset $j$. Finally, $w$ is the initial amount of cash available. \n",
    "\n",
    "Since $e$ is the vector of all ones then $e^T x = \\sum_{j=1}^n x_j$ is the total investment. Clearly, the total amount invested must be equal to the initial wealth, i.e. $ w + e^T x^0.$. This leads to the first constraint\n",
    "\n",
    "\\begin{equation}\n",
    "e^T x = w + e^T x^0.\n",
    "\\end{equation}\n",
    "\n",
    "The second constraint\n",
    "\n",
    "\\begin{equation}\n",
    " x^T \\Sigma x \\leq \\gamma^2\n",
    " \\end{equation}\n",
    " \n",
    "ensures that the variance, or the risk, is bounded by the parameter $\\gamma^2$. Therefore, $\\gamma$ specifies an upper bound of the standard deviation the investor is willing to undertake. Finally, the constraint\n",
    "\n",
    "\n",
    "\\begin{equation}\n",
    "x_j \\geq 0\n",
    "\\end{equation}\n",
    "\n",
    "excludes the possibility of short-selling. This constraint can of course be excluded if short-selling is allowed.\n",
    "\n",
    "The optimization problem takes the form\n",
    "\n",
    "\\begin{equation}\n",
    "   \\begin{array}{llll}\n",
    "   \\mbox{maximize}   & \\mu^T x       &        &\\\\\n",
    "   \\mbox{subject to} &  e^T x        & =      & w + e^T x^0,\\\\\n",
    "                     &  x^T \\Sigma x & \\leq   & \\gamma^2,\\\\\n",
    "                     &  x            & \\geq 0.& \n",
    "   \\end{array}\n",
    "\\end{equation}\n",
    "\n",
    "\n",
    "A popular choice is $x^0 = 0$ and $w=1$ because then $x_j$ may be interpretated as the relative amount of the total portfolio that is invested in asset $j$.\n",
    "\n",
    "The covariance matrix $\\Sigma$ is positive semidefinite by definition and therefore there exist a matrix $G$ such that\n",
    "\n",
    "\n",
    "\\begin{equation}\n",
    "   \\Sigma = G G^T.\n",
    "\\end{equation}\n",
    " \n",
    "In general the choice of $G$ is **not** unique and one possible choice of $G$ is the Cholesky factorization of $\\Sigma$. However, in many cases another choice is better for efficiency reasons. For a given $G$ we have that\n",
    "\n",
    "\n",
    "\\begin{equation}\n",
    "   \\begin{array}{lll}\n",
    "   x^T \\Sigma x & = & x^T G G^T x \\\\\n",
    "                & = & \\left\\|G^T x\\right\\|^2.\n",
    "   \\end{array}\n",
    "\\end{equation}\n",
    "\n",
    "Hence, we may write the risk constraint as\n",
    "\n",
    "\\begin{equation}\n",
    "   \\gamma \\geq \\left\\|G^T x\\right\\|\n",
    "\\end{equation}\n",
    "\n",
    "or equivalently\n",
    "\n",
    "\\begin{equation}\n",
    " \\left[\\gamma;G^T x\\right] \\in Q^{n+1}.\n",
    "\\end{equation}\n",
    "\n",
    "where $Q^{n+1}$ is the $n+1$ dimensional quadratic cone. Therefore, problem can be written as\n",
    "\n",
    "\\begin{equation}\n",
    "   \\begin{array}{llll}\n",
    "    \\mbox{maximize}   & \\mu^T x             &      & \\\\\n",
    "    \\mbox{subject to} &  e^T x              & =    & w+e^T x^0,\\\\\n",
    "                      & [\\gamma;G^T x]      & \\in  & Q^{n+1},\\\\\n",
    "                      &  x                  & \\geq & 0,\n",
    "   \\end{array}\n",
    "\\end{equation}\n",
    "\n",
    "which is a conic quadratic optimization problem that can easily be formulated and solved with `fusion`. \n",
    "\n",
    "Let's start with some simple data:"
   ]
  },
  {
   "cell_type": "code",
   "execution_count": 72,
   "metadata": {
    "collapsed": false
   },
   "outputs": [],
   "source": [
    "n  = 3\n",
    "\n",
    "mu = [0.1073, 0.0737, 0.0627]\n",
    "x0 = [0.0 for i in range(n)]\n",
    "w  = 1.0\n",
    "\n",
    "Sigma = [\\\n",
    "    [0.02778 ,   0.00387 ,  0.00021],\\\n",
    "    [0.00387 ,   0.01112 , -0.00020],\\\n",
    "    [0.00021 ,  -0.00020 ,  0.00115] \\\n",
    "    ]\n",
    "\n",
    "gamma = 0.15\n",
    "\n",
    "\n",
    "def print_mat(M):\n",
    "    for i in range(len(M)):\n",
    "        print \"| %s |\" % ','.join(['%+.4f'%M[i][j] for j in range(n)])"
   ]
  },
  {
   "cell_type": "markdown",
   "metadata": {},
   "source": [
    "The Cholesky factor of $\\Sigma$ can be easily computed. \n",
    "\n",
    "We use the built-in `LAPACK potrf` function provided by MOSEK optimizer API:"
   ]
  },
  {
   "cell_type": "code",
   "execution_count": 73,
   "metadata": {
    "collapsed": false
   },
   "outputs": [
    {
     "name": "stdout",
     "output_type": "stream",
     "text": [
      "| +0.1667,+0.0232,+0.0013 |\n",
      "| +0.0000,+0.1029,-0.0022 |\n",
      "| +0.0000,+0.0000,+0.0338 |\n"
     ]
    }
   ],
   "source": [
    "import mosek as msk\n",
    "\n",
    "GT=[[0.0 for j in range(n)] for i in range(n)]\n",
    "\n",
    "with mosek.Env() as env:\n",
    "    ll=[ c for r in Sigma for c in r]\n",
    "    env.potrf( msk.uplo.lo,n, ll)\n",
    "    \n",
    "    for i in range(n):\n",
    "        for j in range(i,n):\n",
    "            GT[i][j] = ll[i*n+j] if i<=j else 0.\n",
    "\n",
    "print_mat(GT)\n"
   ]
  },
  {
   "cell_type": "markdown",
   "metadata": {},
   "source": [
    "The model can be easily implemented in `fusion`:"
   ]
  },
  {
   "cell_type": "code",
   "execution_count": 74,
   "metadata": {
    "collapsed": true
   },
   "outputs": [],
   "source": [
    "from mosek.fusion import *\n",
    "\n",
    "def BasicMarkowitz(mu,GT,x0,w,gamma):\n",
    "    \n",
    "\n",
    "    with  Model(\"Basic Markowitz\") as M:\n",
    "\n",
    "        n = len (mu)\n",
    "        \n",
    "        # Defines the variables (holdings). Shortselling is not allowed.\n",
    "        x = M.variable('x', n, Domain.greaterThan(0.0))\n",
    "\n",
    "        #  Maximize expected return\n",
    "        M.objective('obj', ObjectiveSense.Maximize, Expr.dot(mu,x))\n",
    "\n",
    "        # The amount invested  must be identical to initial wealth\n",
    "        M.constraint('budget', Expr.sum(x), Domain.equalsTo(w+sum(x0)))\n",
    "\n",
    "        # Imposes a bound on the risk\n",
    "        M.constraint('risk', Expr.vstack( gamma,Expr.mul(GT,x)), Domain.inQCone())\n",
    "\n",
    "        # Solves the model.\n",
    "        M.solve()\n",
    "\n",
    "        return x.level()\n",
    "\n"
   ]
  },
  {
   "cell_type": "markdown",
   "metadata": {},
   "source": [
    "The function is almost self-explanatory. \n",
    "\n"
   ]
  },
  {
   "cell_type": "code",
   "execution_count": 75,
   "metadata": {
    "collapsed": false
   },
   "outputs": [
    {
     "name": "stdout",
     "output_type": "stream",
     "text": [
      "x =  [0.8802408202532492, 0.11975709258239807, 2.092814570381313e-06]\n",
      "w =  1.0\n",
      "expected return = 0.103276\n"
     ]
    }
   ],
   "source": [
    "x = BasicMarkowitz(mu,GT,x0,w,gamma)\n",
    "print \"x = \",x\n",
    "print \"w = \",w\n",
    "print 'expected return = %f'% sum([mu[i]*x[i] for i in range(n)])\n"
   ]
  },
  {
   "cell_type": "markdown",
   "metadata": {},
   "source": [
    "The efficient frontier\n",
    "-------------------------\n",
    "\n",
    "The portfolio computed by the Markowitz model is efficient in the sense that there no other other portfolio giving a strictly higher return for the same amount of risk. An efficient portfolio is also sometimes called a Pareto optimal portfolio. Clearly, an investor should only invest in efficient portfolios and therefore it may be relevant to present the investor for all efficient portfolios so the investor can choose the portfolio that has the desired tradeoff between return and risk. \n",
    "\n",
    "Given a nonnegative $\\alpha$ then the problem \n",
    "\n",
    "\\begin{equation}\n",
    "   \\begin{array}{lll}\n",
    "   \\mbox{maximize}   & \\mu^T x - \\alpha s& \\\\\n",
    "   \\mbox{subject to} &  e^T x            & =     w + e^T x^0,\\\\\n",
    "                     &  [s;G^T x]        & \\in   Q^{n+1},\\\\\n",
    "                     &  x                & \\geq  0.\n",
    "   \\end{array}\n",
    "\\end{equation}\n",
    "\n",
    "computes an efficient portfolio. Note that the objective maximize the expected return while maximizing $-\\alpha$ times the standard deviation. Hence, the standard deviation is minimized while $\\alpha$ specifies the tradeoff between expected return and risk. Ideally the problem  should be solved for all values $\\alpha \\geq 0$ but in practice impossible."
   ]
  },
  {
   "cell_type": "code",
   "execution_count": 76,
   "metadata": {
    "collapsed": false
   },
   "outputs": [],
   "source": [
    "def EfficientFrontier(mu,GT,x0,w,alphas):\n",
    "    \n",
    "    n = len(mu)\n",
    "    \n",
    "    with Model(\"Efficient frontier\") as M:\n",
    "\n",
    "        # Defines the variables (holdings). Shortselling is not allowed.\n",
    "        x = M.variable(\"x\", n, Domain.greaterThan(0.0)) # Portfolio variables\n",
    "        s = M.variable(\"s\", 1, Domain.unbounded()) # Risk variable\n",
    "\n",
    "        M.constraint('budget', Expr.sum(x), Domain.equalsTo(w+sum(x0)))\n",
    "\n",
    "        M.constraint('risk', Expr.vstack(s,Expr.mul(GT,x)),Domain.inQCone())\n",
    "\n",
    "        risk = []\n",
    "        ret  = []\n",
    "\n",
    "        mudotx = Expr.dot(mu,x)\n",
    "        xs = []\n",
    "        for i,alpha in enumerate(alphas):\n",
    "\n",
    "            #  Define objective as a weighted combination of return and risk\n",
    "            M.objective('obj', ObjectiveSense.Maximize, Expr.sub(mudotx,Expr.mul(alpha,s)))\n",
    "\n",
    "            M.solve()\n",
    "\n",
    "            risk.append(s.level()[0])\n",
    "            ret.append(sum([mu[i]*x.level(i) for i in range(n)]))\n",
    "            xs.append(x.level())\n",
    "            \n",
    "        return ret,risk,xs"
   ]
  },
  {
   "cell_type": "code",
   "execution_count": 77,
   "metadata": {
    "collapsed": false
   },
   "outputs": [
    {
     "data": {
      "image/png": "[encoded data removed]",
      "text/plain": [
       "<matplotlib.figure.Figure at 0x2c36d10>"
      ]
     },
     "metadata": {},
     "output_type": "display_data"
    },
    {
     "data": {
      "image/png": "[encoded data removed]",
      "text/plain": [
       "<matplotlib.figure.Figure at 0x45fcf90>"
      ]
     },
     "metadata": {},
     "output_type": "display_data"
    }
   ],
   "source": [
    "alphas = [0.00, 0.01, 0.10, 0.25, 0.30, 0.35, 0.40, 0.45, 0.50, 0.75, 1.00, 1.50, 2.00, 3.00, 10.00]\n",
    "\n",
    "ret,risk,xs = EfficientFrontier(mu,GT,x0,w,alphas)\n",
    "\n",
    "%matplotlib inline\n",
    "import matplotlib.pyplot as plt\n",
    "\n",
    "m = len(alphas)\n",
    "\n",
    "plt.plot( risk, ret, 'b*')\n",
    "    \n",
    "plt.grid()    \n",
    "plt.show()\n",
    "\n",
    "indx= range(len(alphas))\n",
    "colors=['b','r','g']\n",
    "bott = [0. for i in range(m)]\n",
    "\n",
    "for i in range(n):\n",
    "    xx = [ xs[j][i] for j in range(m)]\n",
    "    plt.bar(indx, xx ,  0.35, bottom=bott,color=colors[i])\n",
    "    bott= [ bott[j] + xx[j] for j in range(m)]\n",
    "\n",
    "plt.grid()\n",
    "plt.show()"
   ]
  },
  {
   "cell_type": "markdown",
   "metadata": {},
   "source": [
    "Improving the computational efficiency\n",
    "--------------------------------------\n",
    "\n",
    "\n",
    "In practice it is often important to solve the portfolio problem in a short amount of time. \n",
    "\n",
    "The computational cost is \n",
    "\n",
    "* to some extent dependent on the number of constraints and variables,\n",
    "* in practice a more important factor is the number nonzeros used to represent the problem. \n",
    "\n",
    "Indeed it is often better to focus at the number of nonzeros in $G$ and try to reduce that number by for instance changing the choice of $G$. As an example assume that\n",
    "\n",
    "\\begin{equation}\n",
    "    \\Sigma = D + VV^T\n",
    "\\end{equation}\n",
    "\n",
    "where $D$ is a positive definite diagonal matrix. Moreover, $V$ is a matrix with $n$ rows and $p$ columns. Such a model for the covariance matrix is called a factor model \\index{factor model} and usually $p$ is much smaller than $n$. In practice $p$ tends be a small number independent of $n$ say less than 100.\n",
    "\n",
    "One possible choice for $G$ is the Cholesky factorization of $\\Sigma$ which requires storage proportional to $n(n+1)/2$. However, another choice is\n",
    "\n",
    "\\begin{equation}\n",
    "        G^T = \n",
    "        \\left[\n",
    "        \\begin{array}{c}\n",
    "         D^{1/2}\n",
    "         V^T\n",
    "        \\end{array}\n",
    "        \\right]\n",
    "\\end{equation}\n",
    "\n",
    "because then $GG^T  = D + VV^T$.\n",
    "\n",
    "This choice requires storage proportional to $n+pn$ which is much less than for the Cholesky choice of $G$. Indeed assuming $p$ is a constant then the difference in storage requirements is a factor of $n$.\n",
    "\n",
    "The example above exploits the so-called factor structure and demonstrates that an alternative choice of $G$ may lead to a significant reduction in the amount of storage used to represent the problem. This will in most cases also lead to a significant reduction in the solution time. \n",
    "\n",
    "Let's see an example."
   ]
  },
  {
   "cell_type": "code",
   "execution_count": null,
   "metadata": {
    "collapsed": true
   },
   "outputs": [],
   "source": []
  },
  {
   "cell_type": "markdown",
   "metadata": {},
   "source": [
    "The lesson to be learned is that it is important to investigate how the covariance is formed. Given this knowledge it might be possible to make a special choice for $G$ that helps reducing the storage requirements and enhance the computational efficiency."
   ]
  },
  {
   "cell_type": "code",
   "execution_count": null,
   "metadata": {
    "collapsed": true
   },
   "outputs": [],
   "source": []
  },
  {
   "cell_type": "markdown",
   "metadata": {},
   "source": [
    "*Disclaimer*\n",
    "The code in this tutorial is provided as is. Future versions of MOSEK and `Fusion` may be not fully compatible. \n",
    "\n",
    "The material is covered by ..."
   ]
  }
 ],
 "metadata": {
  "kernelspec": {
   "display_name": "Python 2",
   "language": "python",
   "name": "python2"
  },
  "language_info": {
   "codemirror_mode": {
    "name": "ipython",
    "version": 2
   },
   "file_extension": ".py",
   "mimetype": "text/x-python",
   "name": "python",
   "nbconvert_exporter": "python",
   "pygments_lexer": "ipython2",
   "version": "2.7.5+"
  }
 },
 "nbformat": 4,
 "nbformat_minor": 0
}
