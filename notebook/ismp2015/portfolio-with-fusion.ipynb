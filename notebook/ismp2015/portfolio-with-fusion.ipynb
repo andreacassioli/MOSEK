{
 "cells": [
  {
   "cell_type": "markdown",
   "metadata": {},
   "source": [
    "![MOSEK ApS](https://mosek.com/files/mosek_logo_color.png )\n",
    "\n",
    "\n",
    "----------------------------------------------------------------------------\n",
    "\n",
    "\n",
    "Portfolio Optimization\n",
    "========================\n",
    "\n",
    "\n",
    "The basic model\n",
    "---------------------------\n",
    "\n",
    "The classical *Markowitz portfolio optimization* problem considers investing in $n$ stocks or assets held over a period of time. Let $x_j$ denote the amount invested in asset $j$, and assume a stochastic model where the return of the assets is a random variable $r$ with known mean \n",
    "\n",
    "\\begin{equation}\n",
    "   \\mu = \\mathbf{E} r\n",
    "\\end{equation}\n",
    "\n",
    "and covariance\n",
    "\n",
    "\\begin{equation}\n",
    " \\Sigma = \\mathbf{E}(r-\\mu)(r-\\mu)^T.\n",
    "\\end{equation}\n",
    "\n",
    "The return of the investment is also a random variable $y = r^Tx$ with mean (or expected return)\n",
    "\n",
    "\\begin{equation}\n",
    "  \\mathbf{E} y = \\mu^T x\n",
    "\\end{equation}\n",
    "\n",
    "and variance (or risk)\n",
    "\n",
    "\\begin{equation}\n",
    " \\mathbf{E}(y - \\mathbf{E} y)^2 = x^T \\Sigma x.\n",
    "\\end{equation}\n",
    "\n",
    "The problem facing the investor is to rebalance the portfolio to achieve a good compromise between risk and expected return, e.g., maximize the expected return subject to a budget constraint and an upper bound (denoted $\\gamma$) on the tolerable risk.\n",
    "\n",
    "The variables $x$ denotes the investment i.e. $x_j$ is the amount invested in asset $j$ and $x_j^0$ is the initial holding of asset $j$. Finally, $w$ is the initial amount of cash available. \n",
    "\n",
    "Since $e$ is the vector of all ones then $e^T x = \\sum_{j=1}^n x_j$ is the total investment. Clearly, the total amount invested must be equal to the initial wealth, i.e. $ w + e^T x^0.$. This leads to the first constraint\n",
    "\n",
    "\\begin{equation}\n",
    "e^T x = w + e^T x^0.\n",
    "\\end{equation}\n",
    "\n",
    "The second constraint\n",
    "\n",
    "\\begin{equation}\n",
    " x^T \\Sigma x \\leq \\gamma^2\n",
    " \\end{equation}\n",
    " \n",
    "ensures that the variance, or the risk, is bounded by the parameter $\\gamma^2$. Therefore, $\\gamma$ specifies an upper bound of the standard deviation the investor is willing to undertake. Finally, the constraint\n",
    "\n",
    "\n",
    "\\begin{equation}\n",
    "x_j \\geq 0\n",
    "\\end{equation}\n",
    "\n",
    "excludes the possibility of short-selling. This constraint can of course be excluded if short-selling is allowed.\n",
    "\n",
    "The optimization problem takes the form\n",
    "\n",
    "\\begin{equation}\n",
    "   \\begin{array}{llll}\n",
    "   \\mbox{maximize}   & \\mu^T x       &        &\\\\\n",
    "   \\mbox{subject to} &  e^T x        & =      & w + e^T x^0,\\\\\n",
    "                     &  x^T \\Sigma x & \\leq   & \\gamma^2,\\\\\n",
    "                     &  x            & \\geq 0.& \n",
    "   \\end{array}\n",
    "\\end{equation}\n",
    "\n",
    "\n",
    "A popular choice is $x^0 = 0$ and $w=1$ because then $x_j$ may be interpretated as the relative amount of the total portfolio that is invested in asset $j$.\n",
    "\n",
    "The covariance matrix $\\Sigma$ is positive semidefinite by definition and therefore there exist a matrix $G$ such that\n",
    "\n",
    "\n",
    "\\begin{equation}\n",
    "   \\Sigma = G G^T.\n",
    "\\end{equation}\n",
    " \n",
    "In general the choice of $G$ is **not** unique and one possible choice of $G$ is the Cholesky factorization of $\\Sigma$. However, in many cases another choice is better for efficiency reasons. For a given $G$ we have that\n",
    "\n",
    "\n",
    "\\begin{equation}\n",
    "   \\begin{array}{lll}\n",
    "   x^T \\Sigma x & = & x^T G G^T x \\\\\n",
    "                & = & \\left\\|G^T x\\right\\|^2.\n",
    "   \\end{array}\n",
    "\\end{equation}\n",
    "\n",
    "Hence, we may write the risk constraint as\n",
    "\n",
    "\\begin{equation}\n",
    "   \\gamma \\geq \\left\\|G^T x\\right\\|\n",
    "\\end{equation}\n",
    "\n",
    "or equivalently\n",
    "\n",
    "\\begin{equation}\n",
    " \\left[\\gamma;G^T x\\right] \\in Q^{n+1}.\n",
    "\\end{equation}\n",
    "\n",
    "where $Q^{n+1}$ is the $n+1$ dimensional quadratic cone. Therefore, problem can be written as\n",
    "\n",
    "\\begin{equation}\n",
    "   \\begin{array}{llll}\n",
    "    \\mbox{maximize}   & \\mu^T x             &      & \\\\\n",
    "    \\mbox{subject to} &  e^T x              & =    & w+e^T x^0,\\\\\n",
    "                      & [\\gamma;G^T x]      & \\in  & Q^{n+1},\\\\\n",
    "                      &  x                  & \\geq & 0,\n",
    "   \\end{array}\n",
    "\\end{equation}\n",
    "\n",
    "which is a conic quadratic optimization problem that can easily be formulated and solved with `fusion`. \n",
    "\n",
    "Here is the implementation using `Fusion`:"
   ]
  },
  {
   "cell_type": "code",
   "execution_count": 2,
   "metadata": {
    "collapsed": false
   },
   "outputs": [],
   "source": [
    "from mosek.fusion import *\n",
    "\n",
    "def BasicMarkowitz(mu,GT,w,gamma):\n",
    "    \n",
    "\n",
    "    with  Model(\"Basic Markowitz\") as M:\n",
    "\n",
    "        n = len (mu)\n",
    "        \n",
    "        x = M.variable('x', n, Domain.greaterThan(0.0))\n",
    "\n",
    "        M.objective('obj', ObjectiveSense.Maximize, Expr.dot(mu,x))\n",
    "\n",
    "        M.constraint('budget', Expr.sum(x), Domain.equalsTo(w))\n",
    "\n",
    "        M.constraint('risk', Expr.vstack( gamma,Expr.mul(GT,x)), Domain.inQCone())\n",
    "\n",
    "        M.setLogHandler(open('dumpb.log','w'))\n",
    "        \n",
    "        M.solve()\n",
    "\n",
    "        return x.level()"
   ]
  },
  {
   "cell_type": "markdown",
   "metadata": {},
   "source": [
    "We need some input. For sake of simplicity we use a small example, and "
   ]
  },
  {
   "cell_type": "code",
   "execution_count": 3,
   "metadata": {
    "collapsed": false
   },
   "outputs": [],
   "source": [
    "n  = 3\n",
    "\n",
    "mu = [0.1073, 0.0737, 0.0627]\n",
    "x0 = [0.0 for i in range(n)]\n",
    "w  = 1.0\n",
    "\n",
    "Sigma = [\\\n",
    "    [0.02778 ,   0.00387 ,  0.00021],\\\n",
    "    [0.00387 ,   0.01112 , -0.00020],\\\n",
    "    [0.00021 ,  -0.00020 ,  0.00115] \\\n",
    "    ]\n",
    "\n",
    "gamma = 0.15\n",
    "\n",
    "def dot(a,b):\n",
    "    return sum([aa*bb for aa,bb in zip(a,b)])\n",
    "\n",
    "\n",
    "def print_mat(M):\n",
    "    for i in range(len(M)):\n",
    "        print \"| %s |\" % ','.join(['%+.4f'%M[i][j] for j in range(n)])"
   ]
  },
  {
   "cell_type": "markdown",
   "metadata": {},
   "source": [
    "The Cholesky factor of $\\Sigma$ can be easily computed. \n",
    "\n",
    "We use the built-in `LAPACK potrf` function provided by MOSEK optimizer API:"
   ]
  },
  {
   "cell_type": "code",
   "execution_count": 4,
   "metadata": {
    "collapsed": false
   },
   "outputs": [
    {
     "name": "stdout",
     "output_type": "stream",
     "text": [
      "| +0.1667,+0.0232,+0.0013 |\n",
      "| +0.0000,+0.1029,-0.0022 |\n",
      "| +0.0000,+0.0000,+0.0338 |\n"
     ]
    }
   ],
   "source": [
    "import mosek as msk\n",
    "\n",
    "GT=[]\n",
    "\n",
    "with msk.Env() as env:\n",
    "    ll=[ c for r in Sigma for c in r]\n",
    "    env.potrf( msk.uplo.lo,n, ll)\n",
    "    \n",
    "    GT = [ [0.]*i + ll[i*n+i:(i+1)*n] for i in range(n)]\n",
    "    \n",
    "print_mat(GT)\n"
   ]
  },
  {
   "cell_type": "markdown",
   "metadata": {},
   "source": [
    "The model can be easily implemented in `fusion`:"
   ]
  },
  {
   "cell_type": "code",
   "execution_count": 5,
   "metadata": {
    "collapsed": false
   },
   "outputs": [
    {
     "name": "stdout",
     "output_type": "stream",
     "text": [
      "x =  [0.8802408202532492, 0.11975709258239807, 2.092814570381313e-06]\n",
      "expected return = 0.103276\n"
     ]
    }
   ],
   "source": [
    "x = BasicMarkowitz(mu,GT,w,gamma)\n",
    "print \"x = \",x\n",
    "print 'expected return = %f'% dot(mu,x)"
   ]
  },
  {
   "cell_type": "markdown",
   "metadata": {},
   "source": [
    "The efficient frontier\n",
    "-------------------------\n",
    "\n",
    "The portfolio computed by the Markowitz model is efficient in the sense that there no other other portfolio giving a strictly higher return for the same amount of risk. An efficient portfolio is also sometimes called a Pareto optimal portfolio. Clearly, an investor should only invest in efficient portfolios and therefore it may be relevant to present the investor for all efficient portfolios so the investor can choose the portfolio that has the desired tradeoff between return and risk. \n",
    "\n",
    "Given a nonnegative $\\alpha$ then the problem \n",
    "\n",
    "\\begin{equation}\n",
    "   \\begin{array}{lll}\n",
    "   \\mbox{maximize}   & \\mu^T x - \\alpha s& \\\\\n",
    "   \\mbox{subject to} &  e^T x            & =     w + e^T x^0,\\\\\n",
    "                     &  [s;G^T x]        & \\in   Q^{n+1},\\\\\n",
    "                     &  x                & \\geq  0.\n",
    "   \\end{array}\n",
    "\\end{equation}\n",
    "\n",
    "computes an efficient portfolio. Note that the objective maximize the expected return while maximizing $-\\alpha$ times the standard deviation. Hence, the standard deviation is minimized while $\\alpha$ specifies the tradeoff between expected return and risk. Ideally the problem  should be solved for all values $\\alpha \\geq 0$ but in practice impossible."
   ]
  },
  {
   "cell_type": "code",
   "execution_count": 6,
   "metadata": {
    "collapsed": false
   },
   "outputs": [],
   "source": [
    "def EfficientFrontier(mu,GT,w,alphas):\n",
    "    \n",
    "    n = len(mu)\n",
    "    \n",
    "    with Model(\"Efficient frontier\") as M:\n",
    "\n",
    "        # Defines the variables (holdings). Shortselling is not allowed.\n",
    "        x = M.variable(\"x\", n, Domain.greaterThan(0.0)) # Portfolio variables\n",
    "        s = M.variable(\"s\", 1, Domain.unbounded()) # Risk variable\n",
    "\n",
    "        M.constraint('budget', Expr.sum(x), Domain.equalsTo(w))\n",
    "\n",
    "        M.constraint('risk', Expr.vstack(s,Expr.mul(GT,x)),Domain.inQCone())\n",
    "\n",
    "        risk = []\n",
    "        ret  = []\n",
    "        xs = []\n",
    "        \n",
    "        mudotx = Expr.dot(mu,x)\n",
    "        for i,alpha in enumerate(alphas):\n",
    "\n",
    "            #  Define objective as a weighted combination of return and risk\n",
    "            M.objective('obj', ObjectiveSense.Maximize, Expr.sub(mudotx,Expr.mul(alpha,s)))\n",
    "\n",
    "            M.solve()\n",
    "\n",
    "            risk.append(s.level()[0])\n",
    "            xs.append(x.level())\n",
    "            \n",
    "        return risk,xs"
   ]
  },
  {
   "cell_type": "markdown",
   "metadata": {},
   "source": [
    "We will now make some test for a given set of $\\alpha$'s."
   ]
  },
  {
   "cell_type": "code",
   "execution_count": 7,
   "metadata": {
    "collapsed": false
   },
   "outputs": [
    {
     "data": {
      "image/png": "[encoded data removed]",
      "text/plain": [
       "<matplotlib.figure.Figure at 0x41cf310>"
      ]
     },
     "metadata": {},
     "output_type": "display_data"
    },
    {
     "data": {
      "image/png": "[encoded data removed]",
      "text/plain": [
       "<matplotlib.figure.Figure at 0x41c7c90>"
      ]
     },
     "metadata": {},
     "output_type": "display_data"
    },
    {
     "data": {
      "image/png": "[encoded data removed]",
      "text/plain": [
       "<matplotlib.figure.Figure at 0x4b4e110>"
      ]
     },
     "metadata": {},
     "output_type": "display_data"
    }
   ],
   "source": [
    "alphas = [0.00, 0.01, 0.10, 0.25, 0.30, 0.35, 0.40, 0.45, 0.50, 0.75, 1.00, 1.50, 2.00, 3.00, 5.00, 10.00]\n",
    "\n",
    "risk,xs = EfficientFrontier(mu,GT,w,alphas)\n",
    "\n",
    "%matplotlib inline\n",
    "import matplotlib.pyplot as plt\n",
    "\n",
    "m = len(alphas)\n",
    "\n",
    "plt.plot( risk, [ dot(mu,xx) for xx in xs], 'b*')\n",
    "    \n",
    "plt.grid()    \n",
    "plt.show()\n",
    "\n",
    "\n",
    "plt.plot( alphas, [ dot(mu,xx) for xx in xs], 'b*')\n",
    "    \n",
    "plt.grid()    \n",
    "plt.show()\n",
    "\n",
    "indx= range(len(alphas))\n",
    "colors=['b','r','g']\n",
    "bott = [0. for i in range(m)]\n",
    "\n",
    "for i in range(n):\n",
    "    xx = [ xs[j][i] for j in range(m)]\n",
    "    plt.bar(alphas, xx ,  0.35, bottom=bott,color=colors[i])\n",
    "    bott= [ bott[j] + xx[j] for j in range(m)]\n",
    "\n",
    "plt.grid()\n",
    "plt.show()"
   ]
  },
  {
   "cell_type": "markdown",
   "metadata": {},
   "source": [
    "Improving the computational efficiency\n",
    "--------------------------------------\n",
    "\n",
    "\n",
    "In practice it is often important to solve the portfolio problem in a short amount of time. \n",
    "\n",
    "The computational cost is \n",
    "\n",
    "* to some extent dependent on the number of constraints and variables,\n",
    "* in practice a more important factor is the number nonzeros used to represent the problem. \n",
    "\n",
    "Indeed it is often better to focus at the number of nonzeros in $G$ and try to reduce that number by for instance changing the choice of $G$. As an example assume that\n",
    "\n",
    "\\begin{equation}\n",
    "    \\Sigma = D + VV^T\n",
    "\\end{equation}\n",
    "\n",
    "where $D$ is a positive definite diagonal matrix. Moreover, $V$ is a matrix with $n$ rows and $p$ columns. Such a model for the covariance matrix is called a factor model \\index{factor model} and usually $p$ is much smaller than $n$. In practice $p$ tends be a small number independent of $n$ say less than 100.\n",
    "\n",
    "One possible choice for $G$ is the Cholesky factorization of $\\Sigma$ which requires storage proportional to $n(n+1)/2$. However, another choice is\n",
    "\n",
    "\\begin{equation}\n",
    "        G^T = \n",
    "        \\left[\n",
    "        \\begin{array}{c}\n",
    "         D^{1/2}\n",
    "         V^T\n",
    "        \\end{array}\n",
    "        \\right]\n",
    "\\end{equation}\n",
    "\n",
    "because then $GG^T  = D + VV^T$.\n",
    "\n",
    "This choice requires storage proportional to $n+pn$ which is much less than for the Cholesky choice of $G$. Indeed assuming $p$ is a constant then the difference in storage requirements is a factor of $n$.\n",
    "\n",
    "The example above exploits the so-called factor structure and demonstrates that an alternative choice of $G$ may lead to a significant reduction in the amount of storage used to represent the problem. This will in most cases also lead to a significant reduction in the solution time. \n",
    "\n",
    "Let's see an example."
   ]
  },
  {
   "cell_type": "code",
   "execution_count": 44,
   "metadata": {
    "collapsed": false
   },
   "outputs": [],
   "source": [
    "from mosek.fusion import *\n",
    "import math\n",
    "def FactorMarkowitz(mu,D,H,w,gamma):\n",
    "    \n",
    "    n = len(mu)\n",
    "    p = len(H[0])\n",
    "    \n",
    "    with  Model(\"Factor Markowitz\") as M:\n",
    "        \n",
    "        x = M.variable('x', n, Domain.greaterThan(0.0))\n",
    "   #     y = M.variable('y', p, Domain.unbounded())\n",
    "\n",
    "        M.objective('obj', ObjectiveSense.Maximize, Expr.dot(mu,x))\n",
    "    \n",
    "        M.constraint('budget', Expr.sum(x), Domain.equalsTo(w))\n",
    "\n",
    "#        GT = Matrix.diag( [math.sqrt(D[i][i]) for i in range(n)]+([1.0]*p))\n",
    "        \n",
    "        #M.constraint('risk', Expr.vstack( gamma,Expr.mul(GT, Variable.vstack(x,y))), Domain.inQCone())\n",
    "        #M.constraint(Expr.sub(Expr.mul(DenseMatrix(H).transpose(),x),y), Domain.equalsTo(0.))\n",
    "        GT = Matrix.diag( [math.sqrt(D[i][i]) for i in range(n)])\n",
    "        M.constraint('risk', Expr.vstack( gamma,gamma, Expr.vstack(\\\n",
    "                                                                 Expr.mul(GT, x),\\\n",
    "                                                                 Expr.mul(DenseMatrix(H).transpose(),x))),\\\n",
    "                                             Domain.inRotatedQCone())\n",
    "                \n",
    "        M.setLogHandler(open('dumpf.log','w'))   \n",
    "        M.writeTask('dump.opf')\n",
    "        M.solve()\n",
    "       \n",
    "        return None#x.level()"
   ]
  },
  {
   "cell_type": "code",
   "execution_count": 45,
   "metadata": {
    "collapsed": false
   },
   "outputs": [
    {
     "name": "stdout",
     "output_type": "stream",
     "text": [
      "[[0.2, 0.0, 0.0, 0.0], [0.0, 0.1, 0.0, 0.0], [0.0, 0.0, 0.2, 0.0], [0.0, 0.0, 0.0, 0.2]]\n",
      "[[0.31622776601683794, 0.0], [0.31622776601683794, 0.31622776601683794], [0.0, 0.0], [0.0, 0.0]]\n",
      "[0.30000000000000004, 0.1, 0.0, 0.0, 0.0, 0.30000000000000004, 0.0, 0.0, 0.0, 0.0, 0.2, 0.0, 0.0, 0.0, 0.0, 0.2]\n",
      "[[0.30000000000000004, 0.1, 0.0, 0.0], [0.0, 0.30000000000000004, 0.0, 0.0], [0.0, 0.0, 0.2, 0.0], [0.0, 0.0, 0.0, 0.2]]\n"
     ]
    },
    {
     "data": {
      "text/plain": [
       "[0.30019956326908875,\n",
       " 0.008543245048071454,\n",
       " 0.10398550766256451,\n",
       " 0.5872716840202746]"
      ]
     },
     "execution_count": 45,
     "metadata": {},
     "output_type": "execute_result"
    }
   ],
   "source": [
    "import math\n",
    "\n",
    "tmp = math.sqrt(1./10.)\n",
    "\n",
    "H= [[tmp, 0.],\\\n",
    "    [tmp, tmp],\\\n",
    "    [0., 0.],\\\n",
    "    [0., 0.]]\n",
    "p=2\n",
    "n=4\n",
    "D = [ \\\n",
    "    [ 1./5.,  0.   , 0.    , 0.],\\\n",
    "    [ 0.    , 1./10., 0.    , 0.],\\\n",
    "    [ 0.    ,  0.   , 1./5., 0.],\\\n",
    "    [ 0.    ,  0.   , 0.    , 1./5.],\\\n",
    "    ]\n",
    "\n",
    "print D\n",
    "print H\n",
    "\n",
    "with msk.Env() as env:\n",
    "    h=[ c for r in H for c in r]\n",
    "    d=[ c for r in D for c in r]\n",
    "    \n",
    "    env.syrk(msk.uplo.lo, msk.transpose.yes,n,p,1., h, 1., d)\n",
    "            \n",
    "    GT = [ [0.]*i + d[i*n+i:(i+1)*n] for i in range(n)]\n",
    "    print d\n",
    "    \n",
    "print GT\n",
    "mu4= mu + [0.1]\n",
    "FactorMarkowitz(mu4,D,H,w,gamma)\n",
    "BasicMarkowitz(mu4,GT,w,gamma)"
   ]
  },
  {
   "cell_type": "code",
   "execution_count": 46,
   "metadata": {
    "collapsed": false
   },
   "outputs": [
    {
     "name": "stdout",
     "output_type": "stream",
     "text": [
      "Open file 'dump.opf'\r\n",
      "Start writing.\r\n",
      "done writing. Time: 0.00\r\n",
      "\r\n",
      "Computer\r\n",
      "  Platform               : Linux/64-X86    \r\n",
      "  Cores                  : 2               \r\n",
      "\r\n",
      "Problem\r\n",
      "  Name                   : Factor Markowitz\r\n",
      "  Objective sense        : max             \r\n",
      "  Type                   : CONIC (conic optimization problem)\r\n",
      "  Constraints            : 9               \r\n",
      "  Cones                  : 1               \r\n",
      "  Scalar variables       : 12              \r\n",
      "  Matrix variables       : 0               \r\n",
      "  Integer variables      : 0               \r\n",
      "\r\n",
      "Optimizer started.\r\n",
      "Conic interior-point optimizer started.\r\n",
      "Presolve started.\r\n",
      "Linear dependency checker started.\r\n",
      "Linear dependency checker terminated.\r\n",
      "Eliminator - tries                  : 0                 time                   : 0.00            \r\n",
      "Eliminator - elim's                 : 0               \r\n",
      "Lin. dep.  - tries                  : 1                 time                   : 0.00            \r\n",
      "Lin. dep.  - number                 : 0               \r\n",
      "Presolve terminated. Time: 0.00    \r\n",
      "Optimizer  - threads                : 2               \r\n",
      "Optimizer  - solved problem         : the primal      \r\n",
      "Optimizer  - Constraints            : 3\r\n",
      "Optimizer  - Cones                  : 1\r\n",
      "Optimizer  - Scalar variables       : 8                 conic                  : 8               \r\n",
      "Optimizer  - Semi-definite variables: 0                 scalarized             : 0               \r\n",
      "Factor     - setup time             : 0.00              dense det. time        : 0.00            \r\n",
      "Factor     - ML order time          : 0.00              GP order time          : 0.00            \r\n",
      "Factor     - nonzeros before factor : 6                 after factor           : 6               \r\n",
      "Factor     - dense dim.             : 0                 flops                  : 9.60e+01        \r\n",
      "ITE PFEAS    DFEAS    GFEAS    PRSTATUS   POBJ              DOBJ              MU       TIME  \r\n",
      "0   1.0e+00  1.0e+00  1.0e+00  0.00e+00   0.000000000e+00   0.000000000e+00   1.0e+00  0.00  \r\n",
      "1   2.3e-01  2.3e-01  2.3e-01  1.79e+00   7.503918971e-02   1.848141409e-01   2.3e-01  0.00  \r\n",
      "2   9.6e-02  9.6e-02  9.6e-02  2.05e+00   8.205684540e-02   1.119860003e-01   9.6e-02  0.00  \r\n",
      "3   3.4e-02  3.4e-02  3.4e-02  -5.11e-01  6.528764692e-02   -4.867710339e-02  3.4e-02  0.00  \r\n",
      "4   2.1e-03  2.1e-03  2.1e-03  -2.11e-01  7.454014906e-02   -2.129247589e+00  2.1e-03  0.00  \r\n",
      "5   1.0e-04  1.0e-04  1.0e-04  -9.65e-01  7.454306902e-02   -4.606513904e+01  1.0e-04  0.00  \r\n",
      "6   5.2e-06  5.2e-06  5.2e-06  -9.98e-01  7.454307526e-02   -9.248818986e+02  5.2e-06  0.00  \r\n",
      "7   2.6e-07  2.6e-07  2.6e-07  -1.00e+00  7.454307528e-02   -1.850122215e+04  2.6e-07  0.00  \r\n",
      "8   2.3e-13  3.6e-13  5.0e-14  -1.00e+00  7.454307528e-02   -1.850122215e+04  2.3e-13  0.00  \r\n",
      "Interior-point optimizer terminated. Time: 0.00. \r\n",
      "\r\n",
      "Optimizer terminated. Time: 0.00    \r\n"
     ]
    }
   ],
   "source": [
    "!cat dumpf.log\n"
   ]
  },
  {
   "cell_type": "code",
   "execution_count": 47,
   "metadata": {
    "collapsed": false
   },
   "outputs": [
    {
     "name": "stdout",
     "output_type": "stream",
     "text": [
      "Computer\r\n",
      "  Platform               : Linux/64-X86    \r\n",
      "  Cores                  : 2               \r\n",
      "\r\n",
      "Problem\r\n",
      "  Name                   : Basic Markowitz \r\n",
      "  Objective sense        : max             \r\n",
      "  Type                   : CONIC (conic optimization problem)\r\n",
      "  Constraints            : 6               \r\n",
      "  Cones                  : 1               \r\n",
      "  Scalar variables       : 9               \r\n",
      "  Matrix variables       : 0               \r\n",
      "  Integer variables      : 0               \r\n",
      "\r\n",
      "Optimizer started.\r\n",
      "Conic interior-point optimizer started.\r\n",
      "Presolve started.\r\n",
      "Linear dependency checker started.\r\n",
      "Linear dependency checker terminated.\r\n",
      "Eliminator - tries                  : 0                 time                   : 0.00            \r\n",
      "Eliminator - elim's                 : 0               \r\n",
      "Lin. dep.  - tries                  : 1                 time                   : 0.00            \r\n",
      "Lin. dep.  - number                 : 0               \r\n",
      "Presolve terminated. Time: 0.00    \r\n",
      "Optimizer  - threads                : 2               \r\n",
      "Optimizer  - solved problem         : the primal      \r\n",
      "Optimizer  - Constraints            : 2\r\n",
      "Optimizer  - Cones                  : 1\r\n",
      "Optimizer  - Scalar variables       : 6                 conic                  : 5               \r\n",
      "Optimizer  - Semi-definite variables: 0                 scalarized             : 0               \r\n",
      "Factor     - setup time             : 0.00              dense det. time        : 0.00            \r\n",
      "Factor     - ML order time          : 0.00              GP order time          : 0.00            \r\n",
      "Factor     - nonzeros before factor : 3                 after factor           : 3               \r\n",
      "Factor     - dense dim.             : 0                 flops                  : 5.80e+01        \r\n",
      "ITE PFEAS    DFEAS    GFEAS    PRSTATUS   POBJ              DOBJ              MU       TIME  \r\n",
      "0   1.0e+00  1.1e+00  8.9e-01  0.00e+00   1.073000000e-01   0.000000000e+00   1.0e+00  0.00  \r\n",
      "1   2.4e-01  2.6e-01  2.1e-01  1.57e+00   9.526699534e-02   2.059024924e-01   2.4e-01  0.00  \r\n",
      "2   6.0e-02  6.6e-02  5.3e-02  2.95e+00   9.145367609e-02   9.617634531e-02   6.0e-02  0.00  \r\n",
      "3   1.5e-02  1.7e-02  1.4e-02  1.02e+00   9.847223225e-02   9.949216152e-02   1.5e-02  0.00  \r\n",
      "4   3.2e-03  3.6e-03  2.9e-03  1.04e+00   9.780272878e-02   9.815932025e-02   3.2e-03  0.00  \r\n",
      "5   4.9e-04  5.4e-04  4.4e-04  9.98e-01   9.809914205e-02   9.815298736e-02   4.9e-04  0.00  \r\n",
      "6   1.1e-04  1.2e-04  9.8e-05  1.00e+00   9.809596203e-02   9.810955351e-02   1.1e-04  0.00  \r\n",
      "7   1.2e-05  1.4e-05  1.1e-05  1.00e+00   9.808857049e-02   9.809025201e-02   1.2e-05  0.00  \r\n",
      "8   1.5e-06  1.6e-06  1.3e-06  1.00e+00   9.808817471e-02   9.808837971e-02   1.5e-06  0.00  \r\n",
      "9   9.5e-08  1.0e-07  8.4e-08  1.00e+00   9.808811467e-02   9.808812787e-02   9.5e-08  0.00  \r\n",
      "10  1.1e-09  1.2e-09  9.5e-10  1.00e+00   9.808811003e-02   9.808811018e-02   1.1e-09  0.00  \r\n",
      "Interior-point optimizer terminated. Time: 0.00. \r\n",
      "\r\n",
      "Optimizer terminated. Time: 0.00    \r\n"
     ]
    }
   ],
   "source": [
    "!cat dumpb.log\n"
   ]
  },
  {
   "cell_type": "code",
   "execution_count": null,
   "metadata": {
    "collapsed": false,
    "scrolled": true
   },
   "outputs": [],
   "source": [
    "!grep flops dump*.log\n"
   ]
  },
  {
   "cell_type": "markdown",
   "metadata": {},
   "source": [
    "As the ratio $n/p$ increases, the gain in computational cost increases as well."
   ]
  },
  {
   "cell_type": "markdown",
   "metadata": {},
   "source": [
    "The lesson to be learned is that it is important to investigate how the covariance is formed. Given this knowledge it might be possible to make a special choice for $G$ that helps reducing the storage requirements and enhance the computational efficiency."
   ]
  },
  {
   "cell_type": "markdown",
   "metadata": {},
   "source": [
    "*Disclaimer*\n",
    "The code in this tutorial is provided as is. Future versions of MOSEK and `Fusion` may be not fully compatible. \n",
    "\n",
    "\n",
    "\n",
    "<a rel=\"license\" href=\"http://creativecommons.org/licenses/by/4.0/\"><img alt=\"Creative Commons License\" style=\"border-width:0\" src=\"https://i.creativecommons.org/l/by/4.0/88x31.png\" /></a><br />This work by <a xmlns:cc=\"http://creativecommons.org/ns#\" href=\"www.mosek.com\" property=\"cc:attributionName\" rel=\"cc:attributionURL\">MOSEK ApS</a> is licensed under a <a rel=\"license\" href=\"http://creativecommons.org/licenses/by/4.0/\">Creative Commons Attribution 4.0 International License</a>.<br />Based on a work at <a xmlns:dct=\"http://purl.org/dc/terms/\" href=\"www.mosek.com\" rel=\"dct:source\">www.mosek.com</a>."
   ]
  },
  {
   "cell_type": "code",
   "execution_count": null,
   "metadata": {
    "collapsed": true
   },
   "outputs": [],
   "source": []
  }
 ],
 "metadata": {
  "kernelspec": {
   "display_name": "Python 2",
   "language": "python",
   "name": "python2"
  },
  "language_info": {
   "codemirror_mode": {
    "name": "ipython",
    "version": 2
   },
   "file_extension": ".py",
   "mimetype": "text/x-python",
   "name": "python",
   "nbconvert_exporter": "python",
   "pygments_lexer": "ipython2",
   "version": "2.7.5+"
  }
 },
 "nbformat": 4,
 "nbformat_minor": 0
}
