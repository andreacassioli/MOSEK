{
 "cells": [
  {
   "cell_type": "markdown",
   "metadata": {},
   "source": [
    "![MOSEK ApS](https://mosek.com/files/mosek_logo_color.png )\n",
    "\n",
    "\n",
    "`Fusion`: Object-Oriented API for Conic Optimization\n",
    "==============================\n",
    "\n",
    "`Fusion` is an Object-Oriented API specifically designed for for Conic Optimization. Its main features are:\n",
    "  \n",
    "* (almost) Seamlessly multi-language (`C#, Java, Python, Matlab`)\n",
    "\n",
    "* Minimalistic and Safe\n",
    "\n",
    "* Extremely Disciplined Conic Optimization\n",
    "\n",
    "* Limited overhead\n",
    "\n",
    "* **MOSEK** gets what you write!\n",
    "\n",
    "\n",
    "\n",
    "Basic Idea\n",
    "-----------------\n",
    "\n",
    "We want to introduce an *object-oriented* interface for optimization problem of the form:\n",
    "\n",
    "\\begin{equation}\n",
    "  \\begin{array}{lll}\n",
    "    \\min & \\sum_j \\langle C_j , X_j \\rangle&\\\\\n",
    "    s.t.&&\\\\\n",
    "    & \\sum_j \\langle A_{ij},  X_j \\rangle+ B_i \\in \\mathcal{K}_i^{n_i} & i=1,\\ldots,k\\\\\n",
    "  \\end{array}\n",
    "\\end{equation}\n",
    "\n",
    "\n",
    "Where $A_{ij},B_i$ and $C_j$ are matrices of suitable dimensions, $X_j$ are bidimensional variables. Cones $\\mathcal{K}_i^{n_i}$ are  \n",
    "\n",
    "* $\\mathbb{R}_+$ - positive orthant ,\n",
    "\n",
    "* $\\mathcal{Q}$ - Lorentz cone,\n",
    "\n",
    "* $\\mathcal{Q_r}$ - Rotated quadratic cone.\n",
    "\n",
    "Dimensions must match accordingly.\n",
    "\n",
    "To express this kind of problem we need only these *basic constructs*:\n",
    "\n",
    "    obj. fun. := ( linear expression , sense)\n",
    "    variable  := ( dimension , domain)\n",
    "    constraint:= ( linear expression , domain)\n",
    "\n",
    "\n",
    "Linear expressions need:\n",
    "\n",
    "* linear operators\n",
    "* matrices\n",
    "* variables\n",
    "\n",
    "\n",
    "A single class to rule them all: ``Model``\n",
    "-------------------------------------------\n",
    "\n",
    "It is the object the user interfaces with:\n",
    "\n",
    "* Model building:\n",
    "\n",
    "        var  = M.variable( [name], dimension, domain)\n",
    "        cons = M.constraint( [name], linear expression , domain)\n",
    "        M.objective( [name], sense, linear expression)\n",
    "  \n",
    "  \n",
    "  \n",
    "* Solver access:\n",
    "  \n",
    "        M.solve()\n",
    "  \n",
    "        print M.getPrimalSolutionStatus()\n",
    "  \n",
    " \n",
    "\n",
    "**Note: each model owns the objects it builds!**\n",
    "\n",
    "\n",
    "\n",
    "Example: a simple conic quadratic problem\n",
    "-----------------------------------------\n",
    "\n",
    "\n",
    "Assume we want to find the solution of system of linear equality and inequalities that is as close as possible to a given vector $y$. The formal definition is:\n",
    "\n",
    "\\begin{equation}\n",
    "    \\begin{aligned}\n",
    "    & \\min \\|x - y\\|_2 \\\\\n",
    "    & s.t.\\\\\n",
    "    & Ax = b \\\\\n",
    "    & l_x\\leq x \\leq u_x\n",
    "    \\end{aligned}\n",
    "\\end{equation}\n",
    "\n",
    "In conic form it reads\n",
    "\n",
    "\\begin{equation}\n",
    "    \\begin{aligned}\n",
    "    & \\min t \\\\\n",
    "    & s.t.\\\\\n",
    "    & (t, x - y) \\in \\mathcal{Q}^{n+1}\\\\\n",
    "    & Ax = b \\\\\n",
    "    & l_x\\leq x \\leq u_x\n",
    "    \\end{aligned}\n",
    "\\end{equation}\n",
    "\n",
    "\n",
    "First, let us declare some input data:"
   ]
  },
  {
   "cell_type": "code",
   "execution_count": 32,
   "metadata": {
    "collapsed": true
   },
   "outputs": [],
   "source": [
    "n = 5\n",
    "\n",
    "y = [0. for i in range(n)]\n",
    "\n",
    "A = [ [12., 20.,  0., 25., 15.],\\\n",
    "      [ 2.,  8., 16.,  0.,  0.],\\\n",
    "      [20., 20., 20., 20., 20.]]\n",
    "     \n",
    "b = [288.,192.,384.]\n",
    "\n",
    "lx= [0. for i in range(n)]\n",
    "ux= [1000. for i in range(n)]\n"
   ]
  },
  {
   "cell_type": "markdown",
   "metadata": {},
   "source": [
    "A `Fusion` code starts with the model declaration:"
   ]
  },
  {
   "cell_type": "code",
   "execution_count": 33,
   "metadata": {
    "collapsed": true
   },
   "outputs": [],
   "source": [
    "from mosek.fusion import *\n",
    "\n",
    "M = Model('My test')"
   ]
  },
  {
   "cell_type": "markdown",
   "metadata": {},
   "source": [
    "then we input the $x$ variables"
   ]
  },
  {
   "cell_type": "code",
   "execution_count": 34,
   "metadata": {
    "collapsed": true
   },
   "outputs": [],
   "source": [
    "x = M.variable('x', n, Domain.inRange(lx,ux))"
   ]
  },
  {
   "cell_type": "markdown",
   "metadata": {},
   "source": [
    "and $t$"
   ]
  },
  {
   "cell_type": "code",
   "execution_count": 35,
   "metadata": {
    "collapsed": true
   },
   "outputs": [],
   "source": [
    "t = M.variable('t', 1, Domain.unbounded())"
   ]
  },
  {
   "cell_type": "markdown",
   "metadata": {},
   "source": [
    "The objective function follows"
   ]
  },
  {
   "cell_type": "code",
   "execution_count": 36,
   "metadata": {
    "collapsed": true
   },
   "outputs": [],
   "source": [
    "M.objective(ObjectiveSense.Minimize, t)"
   ]
  },
  {
   "cell_type": "markdown",
   "metadata": {},
   "source": [
    "We can declare\n",
    "\n",
    "* the conic quadratic constraint stacking $t$ and $x$ together:\n",
    "*  Note how we can store a reference to the constraints.\n"
   ]
  },
  {
   "cell_type": "code",
   "execution_count": 37,
   "metadata": {
    "collapsed": false
   },
   "outputs": [],
   "source": [
    "M.constraint(Expr.vstack(t, Expr.sub(x,y)), Domain.inQCone())\n",
    "le = M.constraint( Expr.mul(A,x), Domain.equalsTo(b))\n"
   ]
  },
  {
   "cell_type": "markdown",
   "metadata": {},
   "source": [
    "Note how\n",
    "\n",
    "* the cone dimensions are deduced automatically from the input.\n",
    "* we can store a reference to the constraints."
   ]
  },
  {
   "cell_type": "markdown",
   "metadata": {},
   "source": [
    "Now we only need to run the solver and print the solution:"
   ]
  },
  {
   "cell_type": "code",
   "execution_count": 38,
   "metadata": {
    "collapsed": false
   },
   "outputs": [
    {
     "name": "stdout",
     "output_type": "stream",
     "text": [
      "primal solution status =  SolutionStatus.Optimal\n",
      "primal solution        = \n",
      "[-1.2462112350726904e-08, 14.399999925447373, 4.800000005447712, 4.1706478408768495e-08, -1.3557713255520233e-08]\n"
     ]
    }
   ],
   "source": [
    "M.solve()\n",
    "\n",
    "print 'primal solution status = ',M.getPrimalSolutionStatus()\n",
    "print 'primal solution        = \\n', x.level()"
   ]
  },
  {
   "cell_type": "markdown",
   "metadata": {},
   "source": [
    "Information about the dual can be obtained directly:"
   ]
  },
  {
   "cell_type": "code",
   "execution_count": 39,
   "metadata": {
    "collapsed": false
   },
   "outputs": [
    {
     "name": "stdout",
     "output_type": "stream",
     "text": [
      "dual solution status =  SolutionStatus.Optimal\n",
      "Ax-b dual mult.      =  [0.14471806520291086, 0.2827359317801117, -0.2103780441985366]\n"
     ]
    }
   ],
   "source": [
    "print 'dual solution status = ', M.getDualSolutionStatus()\n",
    "print 'Ax-b dual mult.      = ', le.dual()"
   ]
  },
  {
   "cell_type": "markdown",
   "metadata": {},
   "source": [
    "Notes\n",
    "----------\n",
    "\n",
    "1. The order in which the model is declared is not important, i.e. constraints, variables and the objective functions can be declared in any order, as long as it makes sense.\n",
    "\n",
    "2. `Fusion` provides only a (large) subset of functionalities of the low-level Optimizer API.\n",
    "\n",
    "\n",
    "Conclusion\n",
    "--------------------\n",
    "\n",
    "\n",
    "---------------------------------------------------------------------------------------------------------------\n",
    "\n",
    "The **MOSEK** logo and name are trademarks of Mosek ApS.\n",
    "\n",
    "The code is provided as-is. Compatibility with future release of **MOSEK** or the `Fusion API` are not guaranteed.\n",
    "\n",
    "For more information contact [support_at_mosek.com](mailto:support@mosek.com)\n",
    "\n",
    "---------------------------------------------------------------------------------------------------------------\n",
    "\n",
    "\n",
    "<a rel=\"license\" href=\"http://creativecommons.org/licenses/by/4.0/\"><img alt=\"Creative Commons License\" style=\"border-width:0\" src=\"https://i.creativecommons.org/l/by/4.0/88x31.png\" /></a><br /><span xmlns:dct=\"http://purl.org/dc/terms/\" property=\"dct:title\">The MOSEK collection of iPython Notebook</span> by <a xmlns:cc=\"http://creativecommons.org/ns#\" href=\"www.mosek.com\" property=\"cc:attributionName\" rel=\"cc:attributionURL\">MOSEK ApS</a> is licensed under a <a rel=\"license\" href=\"http://creativecommons.org/licenses/by/4.0/\">Creative Commons Attribution 4.0 International License</a>.<br />Based on a work at <a xmlns:dct=\"http://purl.org/dc/terms/\" href=\"https://github.com/MOSEK\" rel=\"dct:source\">https://github.com/MOSEK</a>.<br />Permissions beyond the scope of this license may be available at <a xmlns:cc=\"http://creativecommons.org/ns#\" href=\"www.mosek.com\" rel=\"cc:morePermissions\">www.mosek.com</a>."
   ]
  }
 ],
 "metadata": {
  "kernelspec": {
   "display_name": "Python 2",
   "language": "python",
   "name": "python2"
  },
  "language_info": {
   "codemirror_mode": {
    "name": "ipython",
    "version": 2
   },
   "file_extension": ".py",
   "mimetype": "text/x-python",
   "name": "python",
   "nbconvert_exporter": "python",
   "pygments_lexer": "ipython2",
   "version": "2.7.5+"
  }
 },
 "nbformat": 4,
 "nbformat_minor": 0
}
