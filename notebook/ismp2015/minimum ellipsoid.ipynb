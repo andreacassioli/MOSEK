{
 "cells": [
  {
   "cell_type": "markdown",
   "metadata": {},
   "source": [
    "**Find the smallest sphere that encloses a set of** $k$ **points** $p_i \\in \\mathbb{R}^n$. \n",
    "\n",
    "\n",
    "The problem boils down to determine the sphere center $c_0\\in \\mathbb{R}^n$ and its radius $r_0\\geq 0$, i.e.\n",
    "\n",
    "\n",
    "\\begin{equation}\n",
    "  \\begin{aligned}\n",
    "\\min \\max_{i=1,\\dots,k} \\| p_i - p_0\\|_2 \\\\\n",
    "  \\end{aligned}\n",
    "\\end{equation}\n",
    "\n",
    "The maximum in the objective function can be easily, i.e.\n",
    "\n",
    "\\begin{equation}\n",
    "  \\begin{aligned}\n",
    "\\min r_0 & & &\\\\\n",
    "s.t.& & &\\\\\n",
    "& r_i \\geq \\| p_i - p_0\\|_2 ,& \\quad & i=1,\\ldots,k\\\\\n",
    "\\end{aligned}\n",
    "\\end{equation}\n",
    "\n",
    "------------------------------\n",
    "\n",
    "For sake of simplicity we will consider\n",
    "\n",
    "* $n=2$,\n",
    "* no restriction on the sphere center location.\n",
    "\n",
    "Our input data will be generate randomly around the origin with a standard normal distibution.\n",
    "\n",
    "Here it is:"
   ]
  },
  {
   "cell_type": "code",
   "execution_count": 1,
   "metadata": {
    "collapsed": false
   },
   "outputs": [
    {
     "ename": "NameError",
     "evalue": "name 'np' is not defined",
     "output_type": "error",
     "traceback": [
      "\u001b[1;31m---------------------------------------------------------------------------\u001b[0m",
      "\u001b[1;31mNameError\u001b[0m                                 Traceback (most recent call last)",
      "\u001b[1;32m<ipython-input-1-e95a7227301a>\u001b[0m in \u001b[0;36m<module>\u001b[1;34m()\u001b[0m\n\u001b[0;32m     19\u001b[0m \u001b[0mk\u001b[0m \u001b[1;33m=\u001b[0m \u001b[1;36m100\u001b[0m\u001b[1;33m\u001b[0m\u001b[0m\n\u001b[0;32m     20\u001b[0m \u001b[1;33m\u001b[0m\u001b[0m\n\u001b[1;32m---> 21\u001b[1;33m \u001b[0mp\u001b[0m\u001b[1;33m=\u001b[0m  \u001b[0mnp\u001b[0m\u001b[1;33m.\u001b[0m\u001b[0mrandom\u001b[0m\u001b[1;33m.\u001b[0m\u001b[0mnormal\u001b[0m\u001b[1;33m(\u001b[0m\u001b[0msize\u001b[0m\u001b[1;33m=\u001b[0m\u001b[1;33m(\u001b[0m\u001b[0mk\u001b[0m\u001b[1;33m,\u001b[0m\u001b[0mn\u001b[0m\u001b[1;33m)\u001b[0m\u001b[1;33m)\u001b[0m\u001b[1;33m\u001b[0m\u001b[0m\n\u001b[0m\u001b[0;32m     22\u001b[0m \u001b[1;33m\u001b[0m\u001b[0m\n\u001b[0;32m     23\u001b[0m \u001b[1;33m\u001b[0m\u001b[0m\n",
      "\u001b[1;31mNameError\u001b[0m: name 'np' is not defined"
     ]
    }
   ],
   "source": [
    "%matplotlib inline\n",
    "import matplotlib.pyplot as plt\n",
    "import matplotlib.patches as mpatches\n",
    "\n",
    "def plot_points(p, p0=[], r0=0.):\n",
    "    n,k= len(p0), len(p)\n",
    "    \n",
    "    fig, ax = plt.subplots()\n",
    "    ax.set_aspect('equal')\n",
    "    ax.plot(  p[:,0], p[:,1], 'b*')\n",
    "    \n",
    "    if len(p0)>0:\n",
    "        ax.plot(  p0[0], p0[1], 'r.')\n",
    "        ax.add_patch( mpatches.Circle( p0,  r0 ,  fc=\"w\", ec=\"r\", lw=1.5) )\n",
    "        \n",
    "    plt.show()\n",
    "\n",
    "n = 2\n",
    "k = 100\n",
    "\n",
    "p=  np.random.normal(size=(k,n))\n",
    "\n",
    "\n",
    "plot_points(p)\n"
   ]
  },
  {
   "cell_type": "markdown",
   "metadata": {},
   "source": [
    "The SOCP formulation reads\n",
    "\n",
    "\\begin{equation}\n",
    "  \\begin{aligned}\n",
    "\\min r_0 & & &\\\\\n",
    "s.t.& & &\\\\\n",
    "& (r_0,p_i - p_0) \\in Q^{(n+1)}, & \\quad & i=1,\\ldots,k.\n",
    "\\end{aligned}\n",
    "\\end{equation}\n",
    "\n",
    "The `fusion` implementatin starts defining the optimization model:\n",
    "\n",
    "Before defining the constraints, we note that we can write\n",
    "\n",
    "\n",
    "\\begin{equation}\n",
    "r = \\left(r_0,\\ldots,r_0\\right)^T \\in \\mathbb{R}^k\n",
    "\\end{equation}\n",
    "\n",
    "and \n",
    "\n",
    "\\begin{equation}\n",
    "P = \\left(p_0,\\ldots,p_k\\right)^T \\in \\mathbb{R}^{k\\times n}.\n",
    "\\end{equation}\n",
    "\n",
    "so that \n",
    "\n",
    "\\begin{equation}\n",
    "(r_0,p_i - p_0) \\in Q^{(n+1)},  \\quad  i=1,\\ldots,k.\n",
    "\\end{equation}\n",
    "\n",
    "can be compactly expressed as \n",
    "\n",
    "\\begin{equation}\n",
    "(r,P) \\in \\Pi Q^{(n+1)}.\n",
    "\\end{equation}\n",
    "\n",
    "Now we are ready for a compact implementation in `Fusion`:"
   ]
  },
  {
   "cell_type": "code",
   "execution_count": 2,
   "metadata": {
    "collapsed": false
   },
   "outputs": [
    {
     "ename": "NameError",
     "evalue": "name 'p' is not defined",
     "output_type": "error",
     "traceback": [
      "\u001b[1;31m---------------------------------------------------------------------------\u001b[0m",
      "\u001b[1;31mNameError\u001b[0m                                 Traceback (most recent call last)",
      "\u001b[1;32m<ipython-input-2-20434ce82f9a>\u001b[0m in \u001b[0;36m<module>\u001b[1;34m()\u001b[0m\n\u001b[0;32m      7\u001b[0m \u001b[1;33m\u001b[0m\u001b[0m\n\u001b[0;32m      8\u001b[0m M.constraint(    Expr.hstack(                Variable.repeat(r0,k),\n\u001b[1;32m----> 9\u001b[1;33m                 \u001b[0mExpr\u001b[0m\u001b[1;33m.\u001b[0m\u001b[0msub\u001b[0m\u001b[1;33m(\u001b[0m \u001b[0mVariable\u001b[0m\u001b[1;33m.\u001b[0m\u001b[0mrepeat\u001b[0m\u001b[1;33m(\u001b[0m\u001b[0mp0\u001b[0m\u001b[1;33m,\u001b[0m\u001b[0mk\u001b[0m\u001b[1;33m)\u001b[0m\u001b[1;33m,\u001b[0m \u001b[0mDenseMatrix\u001b[0m\u001b[1;33m(\u001b[0m\u001b[0mp\u001b[0m\u001b[1;33m)\u001b[0m \u001b[1;33m)\u001b[0m\u001b[0;31m\\\u001b[0m\u001b[1;33m\u001b[0m\u001b[0m\n\u001b[0m\u001b[0;32m     10\u001b[0m                ),\\\n\u001b[0;32m     11\u001b[0m         Domain.inQCone())\n",
      "\u001b[1;31mNameError\u001b[0m: name 'p' is not defined"
     ]
    }
   ],
   "source": [
    "from mosek.fusion import *\n",
    "\n",
    "M = Model(\"minimal sphere enclosing a set of points\")\n",
    "\n",
    "r0 = M.variable(1         , Domain.greaterThan(0.))\n",
    "p0 = M.variable(NDSet(1,n), Domain.unbounded())\n",
    "\n",
    "M.constraint(\\\n",
    "    Expr.hstack(\\\n",
    "                Variable.repeat(r0,k),\n",
    "                Expr.sub( Variable.repeat(p0,k), DenseMatrix(p) )\\\n",
    "               ),\\\n",
    "        Domain.inQCone())\n",
    "\n",
    "M.setLogHandler(open('logp','wt'))\n",
    "\n",
    "M.objective(ObjectiveSense.Minimize, r0)\n",
    "\n",
    "M.solve()\n",
    "\n",
    "print \"r0^* = \", r0.level()[0]\n",
    "print \"p0^* = \", p0.level()"
   ]
  },
  {
   "cell_type": "code",
   "execution_count": 3,
   "metadata": {
    "collapsed": false
   },
   "outputs": [
    {
     "ename": "NameError",
     "evalue": "name 'p' is not defined",
     "output_type": "error",
     "traceback": [
      "\u001b[1;31m---------------------------------------------------------------------------\u001b[0m",
      "\u001b[1;31mNameError\u001b[0m                                 Traceback (most recent call last)",
      "\u001b[1;32m<ipython-input-3-cd550daea0d2>\u001b[0m in \u001b[0;36m<module>\u001b[1;34m()\u001b[0m\n\u001b[1;32m----> 1\u001b[1;33m \u001b[0mplot_points\u001b[0m\u001b[1;33m(\u001b[0m\u001b[0mp\u001b[0m\u001b[1;33m,\u001b[0m\u001b[0mp0\u001b[0m\u001b[1;33m.\u001b[0m\u001b[0mlevel\u001b[0m\u001b[1;33m(\u001b[0m\u001b[1;33m)\u001b[0m\u001b[1;33m,\u001b[0m\u001b[0mr0\u001b[0m\u001b[1;33m.\u001b[0m\u001b[0mlevel\u001b[0m\u001b[1;33m(\u001b[0m\u001b[1;33m)\u001b[0m\u001b[1;33m[\u001b[0m\u001b[1;36m0\u001b[0m\u001b[1;33m]\u001b[0m\u001b[1;33m)\u001b[0m\u001b[1;33m\u001b[0m\u001b[0m\n\u001b[0m",
      "\u001b[1;31mNameError\u001b[0m: name 'p' is not defined"
     ]
    }
   ],
   "source": [
    "plot_points(p,p0.level(),r0.level()[0])"
   ]
  },
  {
   "cell_type": "markdown",
   "metadata": {},
   "source": [
    "= Dual Formulation \n",
    "\n",
    "Let's derive the dual:\n",
    "\n",
    "\\begin{aligned}\n",
    "    \\max & \\sum_i b_i^T y_i \\\\\n",
    "    & \\sum_i y_i = c \\\\\n",
    "    & y_i \\in \\mathcal{Q}^{n+1}\n",
    "\\end{aligned}\n",
    "\n",
    "\n",
    "where $c=\\left(1, 0_n\\right)^T$ and $b_i=(0,p_i)$. Introducing \n",
    "\n",
    "\\begin{equation}\n",
    " Y = \\left[ y_0, \\ldots,y_k  \\right], B=\\left[ b_1,\\ldots,b_k\\right]\n",
    "\\end{equation}\n",
    "\n",
    "\n",
    "\\begin{aligned}\n",
    "    \\max & \\left< B, Y \\right> \\\\\n",
    "    & Y \\mathbb{1}_k = c \\\\\n",
    "    & Y_{:,i} \\in \\mathcal{Q}^{n+1}\n",
    "\\end{aligned}\n",
    "\n"
   ]
  },
  {
   "cell_type": "code",
   "execution_count": 4,
   "metadata": {
    "collapsed": false
   },
   "outputs": [
    {
     "ename": "NameError",
     "evalue": "name 'p' is not defined",
     "output_type": "error",
     "traceback": [
      "\u001b[1;31m---------------------------------------------------------------------------\u001b[0m",
      "\u001b[1;31mNameError\u001b[0m                                 Traceback (most recent call last)",
      "\u001b[1;32m<ipython-input-4-92879438b6ed>\u001b[0m in \u001b[0;36m<module>\u001b[1;34m()\u001b[0m\n\u001b[0;32m      4\u001b[0m \u001b[0mMd\u001b[0m\u001b[1;33m.\u001b[0m\u001b[0mconstraint\u001b[0m\u001b[1;33m(\u001b[0m \u001b[0mExpr\u001b[0m\u001b[1;33m.\u001b[0m\u001b[0mmul\u001b[0m\u001b[1;33m(\u001b[0m \u001b[1;33m[\u001b[0m\u001b[1;36m1.0\u001b[0m \u001b[1;32mfor\u001b[0m \u001b[0mi\u001b[0m \u001b[1;32min\u001b[0m \u001b[0mrange\u001b[0m\u001b[1;33m(\u001b[0m\u001b[0mk\u001b[0m\u001b[1;33m)\u001b[0m\u001b[1;33m]\u001b[0m\u001b[1;33m,\u001b[0m \u001b[0my\u001b[0m\u001b[1;33m)\u001b[0m\u001b[1;33m,\u001b[0m \u001b[0mDomain\u001b[0m\u001b[1;33m.\u001b[0m\u001b[0mequalsTo\u001b[0m\u001b[1;33m(\u001b[0m \u001b[1;33m[\u001b[0m\u001b[1;36m1.\u001b[0m\u001b[1;33m]\u001b[0m \u001b[1;33m+\u001b[0m \u001b[1;33m[\u001b[0m\u001b[1;36m0.\u001b[0m \u001b[1;32mfor\u001b[0m \u001b[0mi\u001b[0m \u001b[1;32min\u001b[0m \u001b[0mrange\u001b[0m\u001b[1;33m(\u001b[0m\u001b[0mn\u001b[0m\u001b[1;33m)\u001b[0m\u001b[1;33m]\u001b[0m\u001b[1;33m)\u001b[0m \u001b[1;33m)\u001b[0m\u001b[1;33m\u001b[0m\u001b[0m\n\u001b[0;32m      5\u001b[0m \u001b[1;33m\u001b[0m\u001b[0m\n\u001b[1;32m----> 6\u001b[1;33m \u001b[0mMd\u001b[0m\u001b[1;33m.\u001b[0m\u001b[0mobjective\u001b[0m\u001b[1;33m(\u001b[0m\u001b[0mObjectiveSense\u001b[0m\u001b[1;33m.\u001b[0m\u001b[0mMaximize\u001b[0m\u001b[1;33m,\u001b[0m \u001b[0mExpr\u001b[0m\u001b[1;33m.\u001b[0m\u001b[0mdot\u001b[0m\u001b[1;33m(\u001b[0m \u001b[0mDenseMatrix\u001b[0m\u001b[1;33m(\u001b[0m\u001b[0mp\u001b[0m\u001b[1;33m.\u001b[0m\u001b[0mtolist\u001b[0m\u001b[1;33m(\u001b[0m\u001b[1;33m)\u001b[0m\u001b[1;33m)\u001b[0m\u001b[1;33m,\u001b[0m \u001b[0my\u001b[0m\u001b[1;33m.\u001b[0m\u001b[0mslice\u001b[0m\u001b[1;33m(\u001b[0m\u001b[1;33m[\u001b[0m\u001b[1;36m0\u001b[0m\u001b[1;33m,\u001b[0m\u001b[1;36m1\u001b[0m\u001b[1;33m]\u001b[0m\u001b[1;33m,\u001b[0m\u001b[1;33m[\u001b[0m\u001b[0mk\u001b[0m\u001b[1;33m,\u001b[0m\u001b[0mn\u001b[0m\u001b[1;33m+\u001b[0m\u001b[1;36m1\u001b[0m\u001b[1;33m]\u001b[0m\u001b[1;33m)\u001b[0m\u001b[1;33m)\u001b[0m \u001b[1;33m)\u001b[0m\u001b[1;33m\u001b[0m\u001b[0m\n\u001b[0m\u001b[0;32m      7\u001b[0m \u001b[1;33m\u001b[0m\u001b[0m\n\u001b[0;32m      8\u001b[0m \u001b[0mMd\u001b[0m\u001b[1;33m.\u001b[0m\u001b[0msetLogHandler\u001b[0m\u001b[1;33m(\u001b[0m\u001b[0mopen\u001b[0m\u001b[1;33m(\u001b[0m\u001b[1;34m'logd'\u001b[0m\u001b[1;33m,\u001b[0m\u001b[1;34m'wt'\u001b[0m\u001b[1;33m)\u001b[0m\u001b[1;33m)\u001b[0m\u001b[1;33m\u001b[0m\u001b[0m\n",
      "\u001b[1;31mNameError\u001b[0m: name 'p' is not defined"
     ]
    }
   ],
   "source": [
    "Md = Model()\n",
    "\n",
    "y= Md.variable(NDSet(k,n+1), Domain.inQCone(k,n+1))\n",
    "Md.constraint( Expr.mul( [1.0 for i in range(k)], y), Domain.equalsTo( [1.] + [0. for i in range(n)]) )\n",
    "    \n",
    "Md.objective(ObjectiveSense.Maximize, Expr.dot( DenseMatrix(p.tolist()), y.slice([0,1],[k,n+1])) )\n",
    " \n",
    "Md.setLogHandler(open('logd','wt'))\n",
    "\n",
    "Md.solve()\n"
   ]
  },
  {
   "cell_type": "markdown",
   "metadata": {},
   "source": [
    "Let's take a closer look to the solver output:"
   ]
  },
  {
   "cell_type": "code",
   "execution_count": 5,
   "metadata": {
    "collapsed": false
   },
   "outputs": [
    {
     "name": "stdout",
     "output_type": "stream",
     "text": [
      "==> logd <==\r\n",
      "7   1.9e-02  2.8e-04  1.9e-04  1.05e+00   2.593207070e+00   2.592398084e+00   1.9e-04  0.00  \r\n",
      "8   1.3e-03  1.9e-05  1.3e-05  1.00e+00   2.589033354e+00   2.588984398e+00   1.3e-05  0.01  \r\n",
      "9   7.4e-05  1.1e-06  7.4e-07  1.00e+00   2.588805277e+00   2.588802489e+00   7.4e-07  0.01  \r\n",
      "10  6.3e-06  9.3e-08  6.4e-08  1.00e+00   2.588793760e+00   2.588793522e+00   6.4e-08  0.01  \r\n",
      "11  8.5e-07  1.3e-08  8.5e-09  1.00e+00   2.588793113e+00   2.588793081e+00   8.6e-09  0.01  \r\n",
      "12  7.3e-08  1.2e-09  9.2e-09  1.00e+00   2.588793042e+00   2.588793061e+00   8.0e-10  0.01  \r\n",
      "13  2.0e-08  7.6e-11  7.0e-09  1.00e+00   2.588793080e+00   2.588793061e+00   5.2e-11  0.01  \r\n",
      "Interior-point optimizer terminated. Time: 0.01. \r\n",
      "\r\n",
      "Optimizer terminated. Time: 0.01    \r\n",
      "\r\n",
      "==> logp <==\r\n",
      "5   8.5e-03  5.3e-03  1.1e-02  1.54e+00   2.703780523e+00   2.716071112e+00   5.3e-03  0.03  \r\n",
      "6   3.3e-03  2.0e-03  4.1e-03  1.10e+00   2.644672935e+00   2.648460754e+00   2.0e-03  0.03  \r\n",
      "7   3.1e-04  1.9e-04  3.8e-04  1.05e+00   2.592896945e+00   2.593207070e+00   1.9e-04  0.04  \r\n",
      "8   2.1e-05  1.3e-05  2.6e-05  1.00e+00   2.589018386e+00   2.589033354e+00   1.3e-05  0.04  \r\n",
      "9   1.2e-06  7.4e-07  1.5e-06  1.00e+00   2.588804425e+00   2.588805277e+00   7.4e-07  0.05  \r\n",
      "10  1.0e-07  6.4e-08  1.3e-07  1.00e+00   2.588793687e+00   2.588793760e+00   6.4e-08  0.05  \r\n",
      "11  1.4e-08  8.6e-09  1.7e-08  1.00e+00   2.588793104e+00   2.588793113e+00   8.6e-09  0.05  \r\n",
      "Interior-point optimizer terminated. Time: 0.05. \r\n",
      "\r\n",
      "Optimizer terminated. Time: 0.05    \r\n"
     ]
    }
   ],
   "source": [
    "!tail  log*"
   ]
  },
  {
   "cell_type": "code",
   "execution_count": 6,
   "metadata": {
    "collapsed": false
   },
   "outputs": [
    {
     "name": "stdout",
     "output_type": "stream",
     "text": [
      "logd:  Scalar variables       : 300             \r\n",
      "logd:Optimizer  - Scalar variables       : 300               conic                  : 300             \r\n",
      "logp:  Scalar variables       : 303             \r\n",
      "logp:Optimizer  - Scalar variables       : 300               conic                  : 300             \r\n"
     ]
    }
   ],
   "source": [
    "!grep Scalar log*"
   ]
  },
  {
   "cell_type": "code",
   "execution_count": 7,
   "metadata": {
    "collapsed": false
   },
   "outputs": [
    {
     "name": "stdout",
     "output_type": "stream",
     "text": [
      "logd:  Cones                  : 100             \r\n",
      "logd:Optimizer  - Cones                  : 100\r\n",
      "logp:  Cones                  : 100             \r\n",
      "logp:Optimizer  - Cones                  : 100\r\n"
     ]
    }
   ],
   "source": [
    "!grep Cones log*"
   ]
  },
  {
   "cell_type": "code",
   "execution_count": 9,
   "metadata": {
    "collapsed": false
   },
   "outputs": [
    {
     "name": "stdout",
     "output_type": "stream",
     "text": [
      "logd:  Constraints            : 3               \r\n",
      "logd:Optimizer  - Constraints            : 3\r\n",
      "logp:  Constraints            : 300             \r\n",
      "logp:Optimizer  - Constraints            : 297\r\n"
     ]
    }
   ],
   "source": [
    "!grep Constraints log*\n"
   ]
  },
  {
   "cell_type": "markdown",
   "metadata": {},
   "source": [
    "Why is that? `Fusion` perform the following transformation:\n",
    "\n",
    "\\begin{equation}\n",
    "Ax - b \\in \\mathcal{K} \\rightarrow \\quad \\left\\lbrace\\begin{array}{ll} y = Ax-b\\\\ y\\in \\mathcal{K} \\end{array}\\right.\n",
    "\\end{equation}\n",
    "\n",
    "The reason is to ensure each variable to belong only in cone (in the `optimizer API` this must be done by the user).\n",
    "\n",
    "But this is not the reason: \n",
    "\n",
    "* **MOSEK** uses a primal-dual algorithm that will solve both formulation at the same time,\n",
    "* therefore internally there is no difference;\n",
    "\n",
    "\n",
    "**So why is the dual formulation so much faster?**\n",
    "\n",
    "The answer comes from a closer inspection to the solver output, in particular the reported `flops`:\n"
   ]
  },
  {
   "cell_type": "markdown",
   "metadata": {},
   "source": [
    "The important point is the the flop and the dense dimensions"
   ]
  },
  {
   "cell_type": "code",
   "execution_count": 10,
   "metadata": {
    "collapsed": false
   },
   "outputs": [
    {
     "name": "stdout",
     "output_type": "stream",
     "text": [
      "logd:Factor     - dense dim.             : 0                 flops                  : 2.63e+03        \r\n",
      "logp:Factor     - dense dim.             : 2                 flops                  : 4.21e+06        \r\n"
     ]
    }
   ],
   "source": [
    "!grep flop log*"
   ]
  },
  {
   "cell_type": "code",
   "execution_count": 11,
   "metadata": {
    "collapsed": false
   },
   "outputs": [
    {
     "data": {
      "text/plain": [
       "1600.7604562737642"
      ]
     },
     "execution_count": 11,
     "metadata": {},
     "output_type": "execute_result"
    }
   ],
   "source": [
    "4.21e+06/2.63e+03"
   ]
  },
  {
   "cell_type": "markdown",
   "metadata": {},
   "source": [
    "When moving from thoery to practical implementation, **MOSEK** is somehow biased towards the primal, i.e. the formulation we input:\n",
    "\n",
    "* some steps, most notably fatorizations, are order dependent,\n",
    "* it is important to not be mislead by the problem dimension looking only at the number of variables, constraints and cones\n",
    "* if performance are a concern, both primal and dual should be tried.\n",
    "\n",
    "Hopefully we will include an automatic dualizer tool in the future release. But it will be still a heuristic.\n",
    "\n"
   ]
  },
  {
   "cell_type": "code",
   "execution_count": null,
   "metadata": {
    "collapsed": true
   },
   "outputs": [],
   "source": []
  }
 ],
 "metadata": {
  "kernelspec": {
   "display_name": "Python 2",
   "language": "python",
   "name": "python2"
  },
  "language_info": {
   "codemirror_mode": {
    "name": "ipython",
    "version": 2
   },
   "file_extension": ".py",
   "mimetype": "text/x-python",
   "name": "python",
   "nbconvert_exporter": "python",
   "pygments_lexer": "ipython2",
   "version": "2.7.10"
  }
 },
 "nbformat": 4,
 "nbformat_minor": 0
}
