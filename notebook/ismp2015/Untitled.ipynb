{
 "cells": [
  {
   "cell_type": "markdown",
   "metadata": {},
   "source": [
    "![MOSEK ApS](https://mosek.com/files/mosek_logo_color.png )\n",
    "\n",
    "\n",
    "Fusion: Object-Oriented API for Conic Optimization\n",
    "==============================\n",
    "  \n",
    "* (almost) Seamlessly multi-language\n",
    "\n",
    "* `C\\#, Java, Python, Matlab`\n",
    "\n",
    "* Minimalistic and Safe\n",
    "\n",
    "* Extremely Disciplined Conic Optimization\n",
    "\n",
    "* Limited overhead\n",
    "\n",
    "* **MOSEK** gets what you write!\n",
    "\n",
    "  \n",
    "  \n",
    "Basic Idea\n",
    "-----------------\n",
    "\n",
    "\\begin{equation}\n",
    "  \\begin{array}{lll}\n",
    "    \\min & \\sum_j \\langle C_j , X_j \\rangle&\\\\\n",
    "    &&\\\\\n",
    "    s.t.&&\\\\\n",
    "    &&\\\\\n",
    "    & \\sum_j \\langle A_{ij},  X_j \\rangle+ B_i \\in \\mathcal{K}_i^{n_i} & i=1,\\ldots,k\\\\\n",
    "  \\end{array}\n",
    "\\end{equation}\n",
    "\n",
    "\n",
    "Basic constructs:\n",
    "\n",
    "``\n",
    "  obj. fun. := ( linear expression , sense)\n",
    "  variable  := ( dimension , domain)\n",
    "  constraint:= ( linear expression , domain)\n",
    "``\n",
    "\n",
    "Linear expressions need:\n",
    "\n",
    "* linear operators\n",
    "* matrices\n",
    "* variables\n",
    "\n",
    "A single class to rule them all: ``Model``\n",
    "           \n",
    "* Model building:\n",
    " ``\n",
    "  var  = M.variable( [name], dimension, domain)\n",
    "  cons = M.constraint( [name], linear expression , domain)\n",
    "  M.objective( [name], sense, linear expression)\n",
    "  ``\n",
    "  \n",
    "  \n",
    "* Solver access:\n",
    "  ``\n",
    "  M.solve()\n",
    "  ...\n",
    "  ``\n",
    "\n",
    "Note: each model owns the objects it builds!\n",
    "\n",
    "Let's go practical!\n",
    "\n",
    "\n",
    "Assume we want to solve a minimum norm solution of a linear system:\n",
    "\n",
    "\\begin{equation}\n",
    "    \\begin{aligned}\n",
    "    & \\min \\|x\\|_2 \\\\\n",
    "    & s.t.\\\\\n",
    "    & Ax = b \\\\\n",
    "    & Dx \\leq 0\\\\\n",
    "    & x\\geq 0\n",
    "    \\end{aligned}\n",
    "\\end{equation}\n",
    "\n",
    "In conic form we obtain\n",
    "\n",
    "\\begin{equation}\n",
    "    \\begin{aligned}\n",
    "    & \\min t \\\\\n",
    "    & s.t.\\\\\n",
    "    & (t, x) \\in \\mathcal{Q}^{n+1}\n",
    "    & Ax = b \\\\\n",
    "    & Dx \\leq 0\\\\\n",
    "    & x\\geq 0\n",
    "    \\end{aligned}\n",
    "\\end{equation}\n"
   ]
  },
  {
   "cell_type": "markdown",
   "metadata": {},
   "source": [
    "First, let us declare some input data:"
   ]
  },
  {
   "cell_type": "markdown",
   "metadata": {},
   "source": [
    "n = 10\n",
    "\n",
    "A = []\n",
    "\n",
    "D = []\n",
    "\n",
    "b = []\n"
   ]
  },
  {
   "cell_type": "markdown",
   "metadata": {},
   "source": [
    "dUsing `fusion` starts with the model declaration:"
   ]
  },
  {
   "cell_type": "code",
   "execution_count": null,
   "metadata": {
    "collapsed": true
   },
   "outputs": [],
   "source": [
    "from mosek.fusion import *\n",
    "\n",
    "M = Model()"
   ]
  },
  {
   "cell_type": "markdown",
   "metadata": {},
   "source": [
    "then we input the $x$ variables"
   ]
  },
  {
   "cell_type": "code",
   "execution_count": null,
   "metadata": {
    "collapsed": true
   },
   "outputs": [],
   "source": [
    "x = M.variable(n,Domain.greaterThan(0.))"
   ]
  },
  {
   "cell_type": "markdown",
   "metadata": {},
   "source": [
    "and $t$"
   ]
  },
  {
   "cell_type": "code",
   "execution_count": null,
   "metadata": {
    "collapsed": true
   },
   "outputs": [],
   "source": [
    "t = M.variable(1,Domain.unbounded())"
   ]
  },
  {
   "cell_type": "markdown",
   "metadata": {},
   "source": [
    "The objective function follows"
   ]
  },
  {
   "cell_type": "code",
   "execution_count": null,
   "metadata": {
    "collapsed": true
   },
   "outputs": [],
   "source": [
    "M.objective(ObjectiveSense.Minimize,t)"
   ]
  },
  {
   "cell_type": "markdown",
   "metadata": {},
   "source": [
    "We can declare the coniq quadratic constraint stacking $t$ and $x$ together:"
   ]
  },
  {
   "cell_type": "code",
   "execution_count": null,
   "metadata": {
    "collapsed": true
   },
   "outputs": [],
   "source": [
    "M.constraint(Expr.vstack(t,x),Domain.inQCone())"
   ]
  },
  {
   "cell_type": "markdown",
   "metadata": {},
   "source": [
    "Note how the cone dimensions are deduced automatically from the input.\n",
    "\n",
    "We only need to input the linear constraints. Despite we could in principle glue $A$ and $D$ together and input all in one step, it is more readable, and perhaps maintenanble, to follow the problem structure."
   ]
  },
  {
   "cell_type": "code",
   "execution_count": null,
   "metadata": {
    "collapsed": true
   },
   "outputs": [],
   "source": [
    "M.constraint( Expr.mul(A,x), Domain.equalsTo(b))\n",
    "M.constraint( Expr.mul(D,x), Domain.lessThan(0.))"
   ]
  },
  {
   "cell_type": "markdown",
   "metadata": {},
   "source": [
    "Now we only need to run the solver:"
   ]
  },
  {
   "cell_type": "code",
   "execution_count": null,
   "metadata": {
    "collapsed": true
   },
   "outputs": [],
   "source": [
    "M.solve()"
   ]
  },
  {
   "cell_type": "markdown",
   "metadata": {},
   "source": [
    "*Disclaimer*\n",
    "The code in this tutorial is provided as is. Future versions of MOSEK and `Fusion` may be not fully compatible. \n",
    "\n",
    "\n",
    "\n",
    "<a rel=\"license\" href=\"http://creativecommons.org/licenses/by/4.0/\"><img alt=\"Creative Commons License\" style=\"border-width:0\" src=\"https://i.creativecommons.org/l/by/4.0/88x31.png\" /></a><br />This work by <a xmlns:cc=\"http://creativecommons.org/ns#\" href=\"www.mosek.com\" property=\"cc:attributionName\" rel=\"cc:attributionURL\">MOSEK ApS</a> is licensed under a <a rel=\"license\" href=\"http://creativecommons.org/licenses/by/4.0/\">Creative Commons Attribution 4.0 International License</a>.<br />Based on a work at <a xmlns:dct=\"http://purl.org/dc/terms/\" href=\"www.mosek.com\" rel=\"dct:source\">www.mosek.com</a>."
   ]
  }
 ],
 "metadata": {
  "kernelspec": {
   "display_name": "Python 2",
   "language": "python",
   "name": "python2"
  },
  "language_info": {
   "codemirror_mode": {
    "name": "ipython",
    "version": 2
   },
   "file_extension": ".py",
   "mimetype": "text/x-python",
   "name": "python",
   "nbconvert_exporter": "python",
   "pygments_lexer": "ipython2",
   "version": "2.7.5+"
  }
 },
 "nbformat": 4,
 "nbformat_minor": 0
}
